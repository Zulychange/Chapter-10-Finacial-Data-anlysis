{
 "cells": [
  {
   "cell_type": "code",
   "execution_count": 98,
   "id": "c7070403",
   "metadata": {},
   "outputs": [
    {
     "name": "stdout",
     "output_type": "stream",
     "text": [
      "E:\\Users\\zz\\anaconda3\\python.exe\n"
     ]
    }
   ],
   "source": [
    "import sys\n",
    "\n",
    "print(sys.executable)"
   ]
  },
  {
   "cell_type": "code",
   "execution_count": 99,
   "id": "62f8696d",
   "metadata": {},
   "outputs": [],
   "source": [
    "import random\n",
    "\n",
    "import numpy as np"
   ]
  },
  {
   "cell_type": "code",
   "execution_count": 100,
   "id": "64d298b5",
   "metadata": {},
   "outputs": [],
   "source": [
    "def average_py(n):\n",
    "    s = 0\n",
    "    for i in range(n):\n",
    "        s+= random.random()\n",
    "    return s/n"
   ]
  },
  {
   "cell_type": "code",
   "execution_count": 101,
   "id": "ef219116",
   "metadata": {},
   "outputs": [],
   "source": [
    "n = 1000000"
   ]
  },
  {
   "cell_type": "code",
   "execution_count": null,
   "id": "c6c82385",
   "metadata": {},
   "outputs": [],
   "source": []
  },
  {
   "cell_type": "markdown",
   "id": "b889e951",
   "metadata": {},
   "source": [
    "**%、%%；time、timeit四种组合计算运行时间**"
   ]
  },
  {
   "cell_type": "markdown",
   "id": "74805116",
   "metadata": {},
   "source": [
    "# 向量化提高效率\n",
    "**提升速度造成内存的使用率提高**"
   ]
  },
  {
   "cell_type": "code",
   "execution_count": 102,
   "id": "4d20189d",
   "metadata": {},
   "outputs": [],
   "source": [
    "def average_py(n):\n",
    "    s = np.random.random(n)\n",
    "    return s/n"
   ]
  },
  {
   "cell_type": "code",
   "execution_count": 103,
   "id": "9b74306d",
   "metadata": {},
   "outputs": [
    {
     "name": "stdout",
     "output_type": "stream",
     "text": [
      "CPU times: total: 15.6 ms\n",
      "Wall time: 11.1 ms\n"
     ]
    },
    {
     "data": {
      "text/plain": [
       "array([3.69765407e-07, 9.58933197e-07, 1.98556442e-07, ...,\n",
       "       2.53392903e-07, 1.45124555e-08, 2.97333510e-08])"
      ]
     },
     "execution_count": 103,
     "metadata": {},
     "output_type": "execute_result"
    }
   ],
   "source": [
    "%time average_py(n)"
   ]
  },
  {
   "cell_type": "code",
   "execution_count": 104,
   "id": "fd22b878",
   "metadata": {},
   "outputs": [
    {
     "name": "stdout",
     "output_type": "stream",
     "text": [
      "9.81 ms ± 288 µs per loop (mean ± std. dev. of 7 runs, 100 loops each)\n"
     ]
    }
   ],
   "source": [
    "%timeit average_py(n)"
   ]
  },
  {
   "cell_type": "code",
   "execution_count": 105,
   "id": "41a91456",
   "metadata": {},
   "outputs": [
    {
     "data": {
      "text/plain": [
       "8000000"
      ]
     },
     "execution_count": 105,
     "metadata": {},
     "output_type": "execute_result"
    }
   ],
   "source": [
    "s = np.random.random(n)\n",
    "s.nbytes"
   ]
  },
  {
   "cell_type": "markdown",
   "id": "a092319f",
   "metadata": {},
   "source": [
    "# Numba\n",
    "**通过使用装饰器，给函数加动态编译功能**"
   ]
  },
  {
   "cell_type": "code",
   "execution_count": 106,
   "id": "eef6c97a",
   "metadata": {},
   "outputs": [],
   "source": [
    "import numba"
   ]
  },
  {
   "cell_type": "code",
   "execution_count": 107,
   "id": "0340902e",
   "metadata": {},
   "outputs": [],
   "source": [
    "average_nb = numba.jit(average_py)"
   ]
  },
  {
   "cell_type": "code",
   "execution_count": 108,
   "id": "f733fbdb",
   "metadata": {},
   "outputs": [
    {
     "name": "stdout",
     "output_type": "stream",
     "text": [
      "CPU times: total: 93.8 ms\n",
      "Wall time: 112 ms\n"
     ]
    },
    {
     "data": {
      "text/plain": [
       "array([8.34223937e-07, 4.56357953e-07, 9.27166633e-07, ...,\n",
       "       7.61039504e-07, 7.99459206e-07, 4.00017729e-07])"
      ]
     },
     "execution_count": 108,
     "metadata": {},
     "output_type": "execute_result"
    }
   ],
   "source": [
    "%time average_nb(n)"
   ]
  },
  {
   "cell_type": "code",
   "execution_count": 109,
   "id": "8aed7a92",
   "metadata": {},
   "outputs": [
    {
     "name": "stdout",
     "output_type": "stream",
     "text": [
      "CPU times: total: 15.6 ms\n",
      "Wall time: 9.52 ms\n"
     ]
    },
    {
     "data": {
      "text/plain": [
       "array([8.78658412e-07, 4.19026878e-07, 9.93323122e-07, ...,\n",
       "       9.10833671e-08, 8.25206079e-07, 6.59382908e-07])"
      ]
     },
     "execution_count": 109,
     "metadata": {},
     "output_type": "execute_result"
    }
   ],
   "source": [
    "%time average_nb(n)"
   ]
  },
  {
   "cell_type": "markdown",
   "id": "cb076fc9",
   "metadata": {},
   "source": [
    "# Cython （有点bug）"
   ]
  },
  {
   "cell_type": "code",
   "execution_count": 110,
   "id": "6048ce39",
   "metadata": {},
   "outputs": [
    {
     "name": "stdout",
     "output_type": "stream",
     "text": [
      "The Cython extension is already loaded. To reload it, use:\n",
      "  %reload_ext Cython\n"
     ]
    }
   ],
   "source": [
    "%load_ext Cython"
   ]
  },
  {
   "cell_type": "code",
   "execution_count": 111,
   "id": "b2b6ae02",
   "metadata": {},
   "outputs": [],
   "source": [
    "# %%cython -a\n",
    "# import random\n",
    "# def average_cyl(int n):\n",
    "#     cdef int i\n",
    "#     cdef float s = 0\n",
    "#     for i in range(n):\n",
    "#         s += random.random()\n",
    "#     return s/n"
   ]
  },
  {
   "cell_type": "markdown",
   "id": "ab0e6fad",
   "metadata": {},
   "source": [
    "# 熟悉一些用作性能基准的算法"
   ]
  },
  {
   "cell_type": "markdown",
   "id": "6d1085cf",
   "metadata": {},
   "source": [
    "## 质数寻找"
   ]
  },
  {
   "cell_type": "markdown",
   "id": "d11c0b5d",
   "metadata": {},
   "source": [
    "### 法1"
   ]
  },
  {
   "cell_type": "code",
   "execution_count": 112,
   "id": "6aac4144",
   "metadata": {},
   "outputs": [],
   "source": [
    "def is_prime(I):\n",
    "    #这种写法也不错，我挺喜欢的这个\n",
    "    if I%2 == 0: return False         #首先质数不是除了2的偶数\n",
    "    for i in range(3,int(I**0.5)+1,2):#因为如果一个数不是素数是合数,那么一定可以由两个自然数相乘得到,其中一个大于或等于它的平方根,一个小于或等于它的平方根.并且成对出现.\n",
    "        if I%i == 0:return False\n",
    "    return True"
   ]
  },
  {
   "cell_type": "code",
   "execution_count": 113,
   "id": "eb4f0297",
   "metadata": {},
   "outputs": [
    {
     "name": "stdout",
     "output_type": "stream",
     "text": [
      "100000003\n"
     ]
    }
   ],
   "source": [
    "#科学计数法表示也得记着\n",
    "n = int(1e8+3)\n",
    "print(n)"
   ]
  },
  {
   "cell_type": "code",
   "execution_count": 114,
   "id": "a1f01c83",
   "metadata": {},
   "outputs": [
    {
     "name": "stdout",
     "output_type": "stream",
     "text": [
      "CPU times: total: 0 ns\n",
      "Wall time: 0 ns\n"
     ]
    },
    {
     "data": {
      "text/plain": [
       "False"
      ]
     },
     "execution_count": 114,
     "metadata": {},
     "output_type": "execute_result"
    }
   ],
   "source": [
    "%time is_prime(n)"
   ]
  },
  {
   "cell_type": "code",
   "execution_count": 115,
   "id": "1ce26749",
   "metadata": {},
   "outputs": [
    {
     "name": "stdout",
     "output_type": "stream",
     "text": [
      "100000007\n"
     ]
    }
   ],
   "source": [
    "p1 = int(1e8+7)\n",
    "print(p1)"
   ]
  },
  {
   "cell_type": "code",
   "execution_count": 116,
   "id": "6e1d4722",
   "metadata": {},
   "outputs": [
    {
     "name": "stdout",
     "output_type": "stream",
     "text": [
      "CPU times: total: 0 ns\n",
      "Wall time: 0 ns\n"
     ]
    },
    {
     "data": {
      "text/plain": [
       "True"
      ]
     },
     "execution_count": 116,
     "metadata": {},
     "output_type": "execute_result"
    }
   ],
   "source": [
    "%time is_prime(p1)"
   ]
  },
  {
   "cell_type": "markdown",
   "id": "04273a48",
   "metadata": {},
   "source": [
    "### 法2"
   ]
  },
  {
   "cell_type": "code",
   "execution_count": 117,
   "id": "1d2ac679",
   "metadata": {},
   "outputs": [],
   "source": [
    "is_prime_nb = numba.jit(is_prime)"
   ]
  },
  {
   "cell_type": "code",
   "execution_count": 118,
   "id": "7753a4c2",
   "metadata": {},
   "outputs": [
    {
     "name": "stdout",
     "output_type": "stream",
     "text": [
      "CPU times: total: 78.1 ms\n",
      "Wall time: 82.6 ms\n"
     ]
    },
    {
     "data": {
      "text/plain": [
       "False"
      ]
     },
     "execution_count": 118,
     "metadata": {},
     "output_type": "execute_result"
    }
   ],
   "source": [
    "#注意numba法每次执行时间都不一样\n",
    "%time is_prime_nb(n)"
   ]
  },
  {
   "cell_type": "code",
   "execution_count": 119,
   "id": "e5a2a613",
   "metadata": {},
   "outputs": [
    {
     "name": "stdout",
     "output_type": "stream",
     "text": [
      "CPU times: total: 0 ns\n",
      "Wall time: 0 ns\n"
     ]
    },
    {
     "data": {
      "text/plain": [
       "False"
      ]
     },
     "execution_count": 119,
     "metadata": {},
     "output_type": "execute_result"
    }
   ],
   "source": [
    "%time is_prime_nb(n)"
   ]
  },
  {
   "cell_type": "markdown",
   "id": "f63e70a2",
   "metadata": {},
   "source": [
    "### 法3 多进程"
   ]
  },
  {
   "cell_type": "code",
   "execution_count": 120,
   "id": "13c732cb",
   "metadata": {},
   "outputs": [],
   "source": [
    "import multiprocessing as mp"
   ]
  },
  {
   "cell_type": "code",
   "execution_count": 121,
   "id": "89e92a1f",
   "metadata": {},
   "outputs": [],
   "source": [
    "#实例化多进程对象\n",
    "pool = mp.Pool(processes=4)"
   ]
  },
  {
   "cell_type": "code",
   "execution_count": 122,
   "id": "8977d543",
   "metadata": {},
   "outputs": [],
   "source": [
    "p2 = [i for i in range(p1,p1+10)]"
   ]
  },
  {
   "cell_type": "code",
   "execution_count": 123,
   "id": "f05cb832",
   "metadata": {},
   "outputs": [
    {
     "name": "stdout",
     "output_type": "stream",
     "text": [
      "CPU times: total: 15.6 ms\n",
      "Wall time: 1.01 s\n"
     ]
    },
    {
     "data": {
      "text/plain": [
       "[True, True, True, True, True, True, True, True, True, True]"
      ]
     },
     "execution_count": 123,
     "metadata": {},
     "output_type": "execute_result"
    }
   ],
   "source": [
    "%time pool.map(is_prime_nb,10*[p1])"
   ]
  },
  {
   "cell_type": "code",
   "execution_count": 124,
   "id": "239741fa",
   "metadata": {},
   "outputs": [
    {
     "name": "stdout",
     "output_type": "stream",
     "text": [
      "CPU times: total: 0 ns\n",
      "Wall time: 3.96 ms\n"
     ]
    },
    {
     "data": {
      "text/plain": [
       "[True, False, False, False, False, False, False, False, False, False]"
      ]
     },
     "execution_count": 124,
     "metadata": {},
     "output_type": "execute_result"
    }
   ],
   "source": [
    "%time pool.map(is_prime_nb,p2)"
   ]
  },
  {
   "cell_type": "markdown",
   "id": "3c699c78",
   "metadata": {},
   "source": [
    "## 斐波那契数（递归与循环）"
   ]
  },
  {
   "cell_type": "markdown",
   "id": "5ba89f6c",
   "metadata": {},
   "source": [
    "### 递归\n",
    "**递归算法的主要问题是中间结果不会缓存，而是重新计算**"
   ]
  },
  {
   "cell_type": "code",
   "execution_count": 135,
   "id": "555a757b",
   "metadata": {},
   "outputs": [],
   "source": [
    "from numba import jit"
   ]
  },
  {
   "cell_type": "code",
   "execution_count": null,
   "id": "55721adc",
   "metadata": {},
   "outputs": [],
   "source": [
    "def fib_rec_py1(n: int) -> int:\n",
    "    if n<2:\n",
    "        return int(n)\n",
    "    else:\n",
    "        return int(fib_rec_py1(n - 1)+fib_rec_py1(n-2))"
   ]
  },
  {
   "cell_type": "code",
   "execution_count": 142,
   "id": "71e47533",
   "metadata": {},
   "outputs": [
    {
     "name": "stdout",
     "output_type": "stream",
     "text": [
      "CPU times: total: 62.5 ms\n",
      "Wall time: 55.2 ms\n"
     ]
    },
    {
     "data": {
      "text/plain": [
       "9227465"
      ]
     },
     "execution_count": 142,
     "metadata": {},
     "output_type": "execute_result"
    }
   ],
   "source": [
    "%time fib_rec_py1(35)"
   ]
  },
  {
   "cell_type": "code",
   "execution_count": 143,
   "id": "9a75797e",
   "metadata": {},
   "outputs": [],
   "source": [
    "@jit(nopython=True)\n",
    "def fib_rec_py1(n: int) -> int:\n",
    "    if n<2:\n",
    "        return int(n)\n",
    "    else:\n",
    "        return int(fib_rec_py1(n - 1)+fib_rec_py1(n-2))"
   ]
  },
  {
   "cell_type": "code",
   "execution_count": 144,
   "id": "83d1ebab",
   "metadata": {},
   "outputs": [
    {
     "name": "stdout",
     "output_type": "stream",
     "text": [
      "CPU times: total: 141 ms\n",
      "Wall time: 149 ms\n"
     ]
    },
    {
     "data": {
      "text/plain": [
       "9227465"
      ]
     },
     "execution_count": 144,
     "metadata": {},
     "output_type": "execute_result"
    }
   ],
   "source": [
    "%time fib_rec_py1(35)"
   ]
  },
  {
   "cell_type": "code",
   "execution_count": 145,
   "id": "843eef50",
   "metadata": {},
   "outputs": [],
   "source": [
    "#负责存储递归时的中间结果\n",
    "from functools import lru_cache as cache"
   ]
  },
  {
   "cell_type": "code",
   "execution_count": 146,
   "id": "b8ba9424",
   "metadata": {},
   "outputs": [],
   "source": [
    "@cache(maxsize = None)    #缓存中间结果的装饰器\n",
    "def fib_rec_py1(n):\n",
    "    if n<2:\n",
    "        return n\n",
    "    else:\n",
    "        return fib_rec_py1(n-1) + fib_rec_py1(n-2)"
   ]
  },
  {
   "cell_type": "code",
   "execution_count": 152,
   "id": "3f145856",
   "metadata": {},
   "outputs": [
    {
     "name": "stdout",
     "output_type": "stream",
     "text": [
      "CPU times: total: 0 ns\n",
      "Wall time: 999 µs\n"
     ]
    },
    {
     "data": {
      "text/plain": [
       "43466557686937456435688527675040625802564660517371780402481729089536555417949051890403879840079255169295922593080322634775209689623239873322471161642996440906533187938298969649928516003704476137795166849228875"
      ]
     },
     "execution_count": 152,
     "metadata": {},
     "output_type": "execute_result"
    }
   ],
   "source": [
    "#缓存中间结果会带来极大的加速效果\n",
    "%time fib_rec_py1(1000)"
   ]
  },
  {
   "cell_type": "code",
   "execution_count": 153,
   "id": "f983d209",
   "metadata": {},
   "outputs": [
    {
     "name": "stdout",
     "output_type": "stream",
     "text": [
      "CPU times: total: 0 ns\n",
      "Wall time: 0 ns\n"
     ]
    },
    {
     "data": {
      "text/plain": [
       "70330367711422815821835254877183549770181269836358732742604905087154537118196933579742249494562611733487750449241765991088186363265450223647106012053374121273867339111198139373125598767690091902245245323403501"
      ]
     },
     "execution_count": 153,
     "metadata": {},
     "output_type": "execute_result"
    }
   ],
   "source": [
    "#缓存中间结果会带来极大的加速效果\n",
    "%time fib_rec_py1(1001)"
   ]
  },
  {
   "cell_type": "markdown",
   "id": "08c6ce4d",
   "metadata": {},
   "source": [
    "### 循环算法"
   ]
  },
  {
   "cell_type": "code",
   "execution_count": 2,
   "id": "7ff1ca43",
   "metadata": {},
   "outputs": [],
   "source": [
    "import numba"
   ]
  },
  {
   "cell_type": "code",
   "execution_count": 3,
   "id": "ba8c965e",
   "metadata": {},
   "outputs": [],
   "source": [
    "def fib_it_py(n):\n",
    "    x,y = 0,1\n",
    "    for i in range(1,n+1):\n",
    "        #可学习的写法\n",
    "        x,y = y,x+y\n",
    "    return x"
   ]
  },
  {
   "cell_type": "code",
   "execution_count": 4,
   "id": "5abba48c",
   "metadata": {},
   "outputs": [
    {
     "name": "stdout",
     "output_type": "stream",
     "text": [
      "CPU times: total: 0 ns\n",
      "Wall time: 0 ns\n"
     ]
    },
    {
     "data": {
      "text/plain": [
       "354224848179261915075"
      ]
     },
     "execution_count": 4,
     "metadata": {},
     "output_type": "execute_result"
    }
   ],
   "source": [
    "%time fib_it_py(100)"
   ]
  },
  {
   "cell_type": "code",
   "execution_count": 5,
   "id": "2ce6fb1d",
   "metadata": {},
   "outputs": [],
   "source": [
    "fib_it_nb = numba.jit(fib_it_py)"
   ]
  },
  {
   "cell_type": "code",
   "execution_count": 6,
   "id": "9dcdadaa",
   "metadata": {},
   "outputs": [
    {
     "name": "stdout",
     "output_type": "stream",
     "text": [
      "CPU times: total: 469 ms\n",
      "Wall time: 761 ms\n"
     ]
    },
    {
     "data": {
      "text/plain": [
       "23416728348467685"
      ]
     },
     "execution_count": 6,
     "metadata": {},
     "output_type": "execute_result"
    }
   ],
   "source": [
    "%time fib_it_nb(80)"
   ]
  },
  {
   "cell_type": "code",
   "execution_count": 8,
   "id": "2db05484",
   "metadata": {},
   "outputs": [
    {
     "name": "stdout",
     "output_type": "stream",
     "text": [
      "CPU times: total: 0 ns\n",
      "Wall time: 0 ns\n"
     ]
    },
    {
     "data": {
      "text/plain": [
       "6792540214324356296"
      ]
     },
     "execution_count": 8,
     "metadata": {},
     "output_type": "execute_result"
    }
   ],
   "source": [
    "%time fib_it_nb(150)"
   ]
  },
  {
   "cell_type": "markdown",
   "id": "297c3b81",
   "metadata": {},
   "source": [
    "## Π（基于蒙特卡洛模拟）"
   ]
  },
  {
   "cell_type": "markdown",
   "id": "8459ebf1",
   "metadata": {},
   "source": [
    "### numpy 版"
   ]
  },
  {
   "cell_type": "code",
   "execution_count": 10,
   "id": "359fe0fa",
   "metadata": {},
   "outputs": [],
   "source": [
    "import random\n",
    "\n",
    "import numpy as np\n",
    "from pylab import mpl,plt\n",
    "plt.style.use('seaborn-v0_8')\n",
    "mpl.rcParams['font.family'] = 'serif'\n",
    "%matplotlib inline"
   ]
  },
  {
   "cell_type": "code",
   "execution_count": 11,
   "id": "ae66365b",
   "metadata": {},
   "outputs": [],
   "source": [
    "#有意思的写法\n",
    "rn = [(random.random()*2-1,random.random()*2-1) for _ in range(500)]"
   ]
  },
  {
   "cell_type": "code",
   "execution_count": 12,
   "id": "fe04fbbe",
   "metadata": {},
   "outputs": [
    {
     "data": {
      "text/plain": [
       "list"
      ]
     },
     "execution_count": 12,
     "metadata": {},
     "output_type": "execute_result"
    }
   ],
   "source": [
    "type(rn)"
   ]
  },
  {
   "cell_type": "code",
   "execution_count": 14,
   "id": "bab5d83d",
   "metadata": {},
   "outputs": [],
   "source": [
    "rn = np.array(rn)"
   ]
  },
  {
   "cell_type": "code",
   "execution_count": 16,
   "id": "af97b523",
   "metadata": {},
   "outputs": [
    {
     "data": {
      "text/plain": [
       "array([[ 0.52365101, -0.39871774],\n",
       "       [-0.07391925, -0.54449368],\n",
       "       [-0.3973616 ,  0.78953713],\n",
       "       [-0.20511935,  0.33074415],\n",
       "       [ 0.74770041, -0.04857532]])"
      ]
     },
     "execution_count": 16,
     "metadata": {},
     "output_type": "execute_result"
    }
   ],
   "source": [
    "rn[:5]"
   ]
  },
  {
   "cell_type": "code",
   "execution_count": 19,
   "id": "dad7aeda",
   "metadata": {},
   "outputs": [
    {
     "data": {
      "text/plain": [
       "(-1.1, 1.1)"
      ]
     },
     "execution_count": 19,
     "metadata": {},
     "output_type": "execute_result"
    },
    {
     "data": {
      "image/png": "[encoded data removed]",
      "text/plain": [
       "<Figure size 700x700 with 1 Axes>"
      ]
     },
     "metadata": {},
     "output_type": "display_data"
    }
   ],
   "source": [
    "fig = plt.figure(figsize = (7,7))\n",
    "ax = fig.add_subplot(1,1,1)\n",
    "circ = plt.Circle((0,0),radius = 1,edgecolor = 'g',lw=2.0,facecolor = 'None')\n",
    "box = plt.Rectangle((-1,-1),2,2,edgecolor = 'b',alpha = 0.3)\n",
    "ax.add_patch(circ)\n",
    "ax.add_patch(box)\n",
    "plt.plot(rn[:,0],rn[:,1],'r.')\n",
    "plt.ylim(-1.1,1.1)\n",
    "plt.xlim(-1.1,1.1)"
   ]
  },
  {
   "cell_type": "code",
   "execution_count": 20,
   "id": "f4c91e62",
   "metadata": {},
   "outputs": [],
   "source": [
    "n = int(1e7)"
   ]
  },
  {
   "cell_type": "code",
   "execution_count": 21,
   "id": "a389875a",
   "metadata": {},
   "outputs": [
    {
     "name": "stdout",
     "output_type": "stream",
     "text": [
      "CPU times: total: 250 ms\n",
      "Wall time: 257 ms\n"
     ]
    }
   ],
   "source": [
    "%time rn = np.random.random((n,2))*2-1"
   ]
  },
  {
   "cell_type": "code",
   "execution_count": 22,
   "id": "cfeb478e",
   "metadata": {},
   "outputs": [
    {
     "data": {
      "text/plain": [
       "160000000"
      ]
     },
     "execution_count": 22,
     "metadata": {},
     "output_type": "execute_result"
    }
   ],
   "source": [
    "rn.nbytes"
   ]
  },
  {
   "cell_type": "code",
   "execution_count": 24,
   "id": "ed2f4fb1",
   "metadata": {},
   "outputs": [
    {
     "name": "stdout",
     "output_type": "stream",
     "text": [
      "CPU times: total: 203 ms\n",
      "Wall time: 192 ms\n"
     ]
    },
    {
     "data": {
      "text/plain": [
       "array([0.916, 0.222, 0.367, 1.085, 0.384, 0.644, 0.736, 0.616])"
      ]
     },
     "execution_count": 24,
     "metadata": {},
     "output_type": "execute_result"
    }
   ],
   "source": [
    "#axis=1求和后结果为列，沿着行求和\n",
    "%time distance = np.sqrt((rn**2).sum(axis=1))\n",
    "distance[:8].round(3)"
   ]
  },
  {
   "cell_type": "code",
   "execution_count": 26,
   "id": "7fae4d51",
   "metadata": {},
   "outputs": [
    {
     "data": {
      "text/plain": [
       "array([ True,  True,  True, ...,  True,  True,  True])"
      ]
     },
     "execution_count": 26,
     "metadata": {},
     "output_type": "execute_result"
    }
   ],
   "source": [
    "#采用条件表达式与bool值的写法\n",
    "distance<=1"
   ]
  },
  {
   "cell_type": "code",
   "execution_count": 27,
   "id": "22acac57",
   "metadata": {},
   "outputs": [
    {
     "name": "stdout",
     "output_type": "stream",
     "text": [
      "CPU times: total: 31.2 ms\n",
      "Wall time: 27.5 ms\n"
     ]
    }
   ],
   "source": [
    "# (distance <= 1.0).sum()写法真是高效啊\n",
    "%time frac = (distance <= 1.0).sum()/len(distance)"
   ]
  },
  {
   "cell_type": "code",
   "execution_count": 28,
   "id": "eb1e2191",
   "metadata": {},
   "outputs": [],
   "source": [
    "#估算Π值\n",
    "pi_mcs = frac * 4"
   ]
  },
  {
   "cell_type": "code",
   "execution_count": 29,
   "id": "29dfb4f7",
   "metadata": {},
   "outputs": [
    {
     "data": {
      "text/plain": [
       "3.1419524"
      ]
     },
     "execution_count": 29,
     "metadata": {},
     "output_type": "execute_result"
    }
   ],
   "source": [
    "pi_mcs"
   ]
  },
  {
   "cell_type": "markdown",
   "id": "3775b2b2",
   "metadata": {},
   "source": [
    "### 直接循环版（对比上述numpy（向量化版））"
   ]
  },
  {
   "cell_type": "code",
   "execution_count": 37,
   "id": "e39c0051",
   "metadata": {},
   "outputs": [],
   "source": [
    "def mcs_pi_py(n):\n",
    "    circle = 0\n",
    "    for _ in range(n):\n",
    "        x,y = random.random(),random.random()\n",
    "        if (x**2 + y**2)**0.5 <= 1:\n",
    "            circle += 1\n",
    "    return (4*circle)/n"
   ]
  },
  {
   "cell_type": "code",
   "execution_count": 38,
   "id": "4b5135d8",
   "metadata": {},
   "outputs": [
    {
     "name": "stdout",
     "output_type": "stream",
     "text": [
      "CPU times: total: 5.72 s\n",
      "Wall time: 5.72 s\n"
     ]
    },
    {
     "data": {
      "text/plain": [
       "3.1427248"
      ]
     },
     "execution_count": 38,
     "metadata": {},
     "output_type": "execute_result"
    }
   ],
   "source": [
    "#n在4.3.1中定义了\n",
    "%time mcs_pi_py(n)"
   ]
  },
  {
   "cell_type": "code",
   "execution_count": 39,
   "id": "aceaaeb1",
   "metadata": {},
   "outputs": [],
   "source": [
    "mcs_pi_nb = numba.jit(mcs_pi_py)"
   ]
  },
  {
   "cell_type": "code",
   "execution_count": 41,
   "id": "deb7c368",
   "metadata": {},
   "outputs": [
    {
     "name": "stdout",
     "output_type": "stream",
     "text": [
      "CPU times: total: 297 ms\n",
      "Wall time: 458 ms\n"
     ]
    },
    {
     "data": {
      "text/plain": [
       "3.1421552"
      ]
     },
     "execution_count": 41,
     "metadata": {},
     "output_type": "execute_result"
    }
   ],
   "source": [
    "%time mcs_pi_nb(n)"
   ]
  },
  {
   "cell_type": "code",
   "execution_count": 42,
   "id": "315c51d4",
   "metadata": {},
   "outputs": [
    {
     "name": "stdout",
     "output_type": "stream",
     "text": [
      "CPU times: total: 109 ms\n",
      "Wall time: 125 ms\n"
     ]
    },
    {
     "data": {
      "text/plain": [
       "3.142698"
      ]
     },
     "execution_count": 42,
     "metadata": {},
     "output_type": "execute_result"
    }
   ],
   "source": [
    "%time mcs_pi_nb(n)"
   ]
  },
  {
   "cell_type": "markdown",
   "id": "6236b7d4",
   "metadata": {},
   "source": [
    "## 二叉树"
   ]
  },
  {
   "cell_type": "code",
   "execution_count": 79,
   "id": "e604602d",
   "metadata": {},
   "outputs": [],
   "source": [
    "import math\n",
    "import numpy as np\n",
    "import numba"
   ]
  },
  {
   "cell_type": "code",
   "execution_count": 48,
   "id": "1297332d",
   "metadata": {},
   "outputs": [],
   "source": [
    "S0 = 36     #执行价格\n",
    "T = 1.0\n",
    "r = 0.06\n",
    "sigma = 0.2 #波动率"
   ]
  },
  {
   "cell_type": "code",
   "execution_count": 49,
   "id": "30244b83",
   "metadata": {},
   "outputs": [],
   "source": [
    "def simulate_tree(M):\n",
    "    dt = T/M\n",
    "    u = math.exp(sigma*math.sqrt(dt))\n",
    "    d = 1/u\n",
    "    S = np.zeros((M+1,M+1))\n",
    "    S[0,0] = S0\n",
    "    z = 1\n",
    "    for t in range(1,M+1):\n",
    "        for i in range(z):\n",
    "            #画个二维表就明白他怎么表示二叉树了；\n",
    "            #向上运动在ndarray对象中表现为侧向运动\n",
    "            S[i,t] = S[i,t-1]*u\n",
    "            S[i+1,t] = S[i,t-1]*d\n",
    "        z += 1\n",
    "    return S"
   ]
  },
  {
   "cell_type": "code",
   "execution_count": 50,
   "id": "d0e54346",
   "metadata": {},
   "outputs": [],
   "source": [
    "#设置ndarray的显示方式\n",
    "np.set_printoptions(formatter={'float':lambda x:'%6.2f'%x})"
   ]
  },
  {
   "cell_type": "code",
   "execution_count": 51,
   "id": "6dea4a51",
   "metadata": {},
   "outputs": [
    {
     "data": {
      "text/plain": [
       "array([[ 36.00,  39.79,  43.97,  48.59,  53.71],\n",
       "       [  0.00,  32.57,  36.00,  39.79,  43.97],\n",
       "       [  0.00,   0.00,  29.47,  32.57,  36.00],\n",
       "       [  0.00,   0.00,   0.00,  26.67,  29.47],\n",
       "       [  0.00,   0.00,   0.00,   0.00,  24.13]])"
      ]
     },
     "execution_count": 51,
     "metadata": {},
     "output_type": "execute_result"
    }
   ],
   "source": [
    "simulate_tree(4)"
   ]
  },
  {
   "cell_type": "code",
   "execution_count": 52,
   "id": "52266b44",
   "metadata": {},
   "outputs": [
    {
     "name": "stdout",
     "output_type": "stream",
     "text": [
      "CPU times: total: 78.1 ms\n",
      "Wall time: 82 ms\n"
     ]
    },
    {
     "data": {
      "text/plain": [
       "array([[ 36.00,  36.32,  36.65, ..., 3095.69, 3123.50, 3151.57],\n",
       "       [  0.00,  35.68,  36.00, ..., 3040.81, 3068.13, 3095.69],\n",
       "       [  0.00,   0.00,  35.36, ..., 2986.89, 3013.73, 3040.81],\n",
       "       ...,\n",
       "       [  0.00,   0.00,   0.00, ...,   0.42,   0.42,   0.43],\n",
       "       [  0.00,   0.00,   0.00, ...,   0.00,   0.41,   0.42],\n",
       "       [  0.00,   0.00,   0.00, ...,   0.00,   0.00,   0.41]])"
      ]
     },
     "execution_count": 52,
     "metadata": {},
     "output_type": "execute_result"
    }
   ],
   "source": [
    "%time simulate_tree(500)"
   ]
  },
  {
   "cell_type": "markdown",
   "id": "3b43ed3c",
   "metadata": {},
   "source": [
    "### Numpy向量化（其实主要还是利用广播机制）\n",
    "**虽然内存少，但是结果不直观了，我认为传统方法较好**"
   ]
  },
  {
   "cell_type": "code",
   "execution_count": 70,
   "id": "d428d68d",
   "metadata": {},
   "outputs": [],
   "source": [
    "M = 4"
   ]
  },
  {
   "cell_type": "code",
   "execution_count": 71,
   "id": "2a82f101",
   "metadata": {},
   "outputs": [
    {
     "data": {
      "text/plain": [
       "array([[0, 1, 2, 3, 4],\n",
       "       [0, 1, 2, 3, 4],\n",
       "       [0, 1, 2, 3, 4],\n",
       "       [0, 1, 2, 3, 4],\n",
       "       [0, 1, 2, 3, 4]])"
      ]
     },
     "execution_count": 71,
     "metadata": {},
     "output_type": "execute_result"
    }
   ],
   "source": [
    "up = np.arange(M+1)\n",
    "#np.resize的复习\n",
    "up = np.resize(up,(M+1,M+1))\n",
    "up"
   ]
  },
  {
   "cell_type": "code",
   "execution_count": 72,
   "id": "890dc017",
   "metadata": {},
   "outputs": [
    {
     "data": {
      "text/plain": [
       "array([[0, 0, 0, 0, 0],\n",
       "       [2, 2, 2, 2, 2],\n",
       "       [4, 4, 4, 4, 4],\n",
       "       [6, 6, 6, 6, 6],\n",
       "       [8, 8, 8, 8, 8]])"
      ]
     },
     "execution_count": 72,
     "metadata": {},
     "output_type": "execute_result"
    }
   ],
   "source": [
    "down = up.T*2\n",
    "down"
   ]
  },
  {
   "cell_type": "code",
   "execution_count": 73,
   "id": "1bd30da4",
   "metadata": {},
   "outputs": [
    {
     "data": {
      "text/plain": [
       "array([[ 0,  1,  2,  3,  4],\n",
       "       [-2, -1,  0,  1,  2],\n",
       "       [-4, -3, -2, -1,  0],\n",
       "       [-6, -5, -4, -3, -2],\n",
       "       [-8, -7, -6, -5, -4]])"
      ]
     },
     "execution_count": 73,
     "metadata": {},
     "output_type": "execute_result"
    }
   ],
   "source": [
    "up - down"
   ]
  },
  {
   "cell_type": "code",
   "execution_count": 74,
   "id": "4dcf6458",
   "metadata": {},
   "outputs": [],
   "source": [
    "dt = T/M"
   ]
  },
  {
   "cell_type": "code",
   "execution_count": 75,
   "id": "7602c983",
   "metadata": {},
   "outputs": [
    {
     "data": {
      "text/plain": [
       "array([[ 36.00,  39.79,  43.97,  48.59,  53.71],\n",
       "       [ 29.47,  32.57,  36.00,  39.79,  43.97],\n",
       "       [ 24.13,  26.67,  29.47,  32.57,  36.00],\n",
       "       [ 19.76,  21.84,  24.13,  26.67,  29.47],\n",
       "       [ 16.18,  17.88,  19.76,  21.84,  24.13]])"
      ]
     },
     "execution_count": 75,
     "metadata": {},
     "output_type": "execute_result"
    }
   ],
   "source": [
    "S0 * np.exp(sigma*math.sqrt(dt)*(up-down))"
   ]
  },
  {
   "cell_type": "code",
   "execution_count": 76,
   "id": "caf588a1",
   "metadata": {},
   "outputs": [],
   "source": [
    "def simulate_tree_np(M):\n",
    "    dt = T/M\n",
    "    up = np.arange(M+1)\n",
    "    up = np.resize(up,(M+1,M+1))\n",
    "    down = up.transpose() * 2\n",
    "    S = S0 * np.exp(sigma * math.sqrt(dt) * (up-down))\n",
    "    return S"
   ]
  },
  {
   "cell_type": "code",
   "execution_count": 77,
   "id": "556d074d",
   "metadata": {},
   "outputs": [
    {
     "data": {
      "text/plain": [
       "array([[ 36.00,  39.79,  43.97,  48.59,  53.71],\n",
       "       [ 29.47,  32.57,  36.00,  39.79,  43.97],\n",
       "       [ 24.13,  26.67,  29.47,  32.57,  36.00],\n",
       "       [ 19.76,  21.84,  24.13,  26.67,  29.47],\n",
       "       [ 16.18,  17.88,  19.76,  21.84,  24.13]])"
      ]
     },
     "execution_count": 77,
     "metadata": {},
     "output_type": "execute_result"
    }
   ],
   "source": [
    "simulate_tree_np(4)"
   ]
  },
  {
   "cell_type": "code",
   "execution_count": 78,
   "id": "7d940286",
   "metadata": {},
   "outputs": [
    {
     "name": "stdout",
     "output_type": "stream",
     "text": [
      "CPU times: total: 0 ns\n",
      "Wall time: 4.91 ms\n"
     ]
    },
    {
     "data": {
      "text/plain": [
       "array([[ 36.00,  36.32,  36.65, ..., 3095.69, 3123.50, 3151.57],\n",
       "       [ 35.36,  35.68,  36.00, ..., 3040.81, 3068.13, 3095.69],\n",
       "       [ 34.73,  35.05,  35.36, ..., 2986.89, 3013.73, 3040.81],\n",
       "       ...,\n",
       "       [  0.00,   0.00,   0.00, ...,   0.42,   0.42,   0.43],\n",
       "       [  0.00,   0.00,   0.00, ...,   0.41,   0.41,   0.42],\n",
       "       [  0.00,   0.00,   0.00, ...,   0.40,   0.41,   0.41]])"
      ]
     },
     "execution_count": 78,
     "metadata": {},
     "output_type": "execute_result"
    }
   ],
   "source": [
    "%time simulate_tree_np(500)"
   ]
  },
  {
   "cell_type": "markdown",
   "id": "a340f6a9",
   "metadata": {},
   "source": [
    "### numba加速"
   ]
  },
  {
   "cell_type": "code",
   "execution_count": 87,
   "id": "017e2b4d",
   "metadata": {},
   "outputs": [],
   "source": [
    "simulate_tree_nb = numba.jit(simulate_tree)"
   ]
  },
  {
   "cell_type": "code",
   "execution_count": 88,
   "id": "093ee012",
   "metadata": {},
   "outputs": [
    {
     "data": {
      "text/plain": [
       "array([[ 36.00,  39.79,  43.97,  48.59,  53.71],\n",
       "       [  0.00,  32.57,  36.00,  39.79,  43.97],\n",
       "       [  0.00,   0.00,  29.47,  32.57,  36.00],\n",
       "       [  0.00,   0.00,   0.00,  26.67,  29.47],\n",
       "       [  0.00,   0.00,   0.00,   0.00,  24.13]])"
      ]
     },
     "execution_count": 88,
     "metadata": {},
     "output_type": "execute_result"
    }
   ],
   "source": [
    "simulate_tree_nb(4)"
   ]
  },
  {
   "cell_type": "code",
   "execution_count": 89,
   "id": "3e8e864d",
   "metadata": {},
   "outputs": [
    {
     "name": "stdout",
     "output_type": "stream",
     "text": [
      "CPU times: total: 0 ns\n",
      "Wall time: 0 ns\n"
     ]
    },
    {
     "data": {
      "text/plain": [
       "array([[ 36.00,  36.32,  36.65, ..., 3095.69, 3123.50, 3151.57],\n",
       "       [  0.00,  35.68,  36.00, ..., 3040.81, 3068.13, 3095.69],\n",
       "       [  0.00,   0.00,  35.36, ..., 2986.89, 3013.73, 3040.81],\n",
       "       ...,\n",
       "       [  0.00,   0.00,   0.00, ...,   0.42,   0.42,   0.43],\n",
       "       [  0.00,   0.00,   0.00, ...,   0.00,   0.41,   0.42],\n",
       "       [  0.00,   0.00,   0.00, ...,   0.00,   0.00,   0.41]])"
      ]
     },
     "execution_count": 89,
     "metadata": {},
     "output_type": "execute_result"
    }
   ],
   "source": [
    "%time simulate_tree_nb(500)"
   ]
  },
  {
   "cell_type": "markdown",
   "id": "07cf3ce6",
   "metadata": {},
   "source": [
    "## 蒙特卡洛模拟\n",
    "**对蒙特卡洛的使用理解更加深刻：先生成一群简单的随机数，经过一系列计算得到想要的随机数范式**"
   ]
  },
  {
   "cell_type": "code",
   "execution_count": 90,
   "id": "f12ad766",
   "metadata": {},
   "outputs": [],
   "source": [
    "M = 100\n",
    "I = 50000"
   ]
  },
  {
   "cell_type": "code",
   "execution_count": 93,
   "id": "eb1386fb",
   "metadata": {},
   "outputs": [],
   "source": [
    "#传参可以直接传元组吗这是？\n",
    "def mcs_simulation_py(p):\n",
    "    M, I = p\n",
    "    dt = T / M\n",
    "    S = np.zeros((M+1,I))\n",
    "    S[0] = S0\n",
    "    rn = np.random.standard_normal(S.shape)\n",
    "    for t in range(1,M+1):\n",
    "        for i in range(I):\n",
    "            #公式10-2\n",
    "            S[t,i] = S[t-1,i]*math.exp((r-sigma**2/2)*dt+sigma*math.sqrt(dt)*rn[t,i])\n",
    "    return S\n",
    "            "
   ]
  },
  {
   "cell_type": "code",
   "execution_count": 105,
   "id": "88dbc081",
   "metadata": {},
   "outputs": [
    {
     "name": "stdout",
     "output_type": "stream",
     "text": [
      "CPU times: total: 5.2 s\n",
      "Wall time: 5.19 s\n"
     ]
    },
    {
     "data": {
      "text/plain": [
       "array([[ 36.00,  36.00,  36.00, ...,  36.00,  36.00,  36.00],\n",
       "       [ 34.80,  35.55,  36.43, ...,  35.38,  35.72,  34.66],\n",
       "       [ 34.44,  36.30,  36.24, ...,  35.22,  35.37,  34.40],\n",
       "       ...,\n",
       "       [ 37.95,  24.68,  39.95, ...,  46.39,  48.05,  30.47],\n",
       "       [ 37.69,  25.92,  40.96, ...,  46.15,  47.45,  30.20],\n",
       "       [ 39.50,  25.74,  42.13, ...,  46.42,  47.80,  29.00]])"
      ]
     },
     "execution_count": 105,
     "metadata": {},
     "output_type": "execute_result"
    }
   ],
   "source": [
    "%time S = mcs_simulation_py((M,I))\n",
    "S"
   ]
  },
  {
   "cell_type": "code",
   "execution_count": 106,
   "id": "4ed1f628",
   "metadata": {},
   "outputs": [
    {
     "data": {
      "text/plain": [
       "38.24979828614018"
      ]
     },
     "execution_count": 106,
     "metadata": {},
     "output_type": "execute_result"
    }
   ],
   "source": [
    "#非常简洁，对最后一行求和\n",
    "S[-1].mean()"
   ]
  },
  {
   "cell_type": "code",
   "execution_count": 109,
   "id": "9256e183",
   "metadata": {},
   "outputs": [
    {
     "data": {
      "text/plain": [
       "array([ 39.50,  25.74,  42.13, ...,  46.42,  47.80,  29.00])"
      ]
     },
     "execution_count": 109,
     "metadata": {},
     "output_type": "execute_result"
    }
   ],
   "source": []
  },
  {
   "cell_type": "code",
   "execution_count": 113,
   "id": "dd6ec937",
   "metadata": {},
   "outputs": [],
   "source": [
    "S_the = S0*math.exp(r * T) #理论期末价格"
   ]
  },
  {
   "cell_type": "code",
   "execution_count": 97,
   "id": "0c604f83",
   "metadata": {},
   "outputs": [],
   "source": [
    "K = 40."
   ]
  },
  {
   "cell_type": "code",
   "execution_count": 102,
   "id": "2b2391b8",
   "metadata": {},
   "outputs": [
    {
     "data": {
      "text/plain": [
       "3.8476636495097862"
      ]
     },
     "execution_count": 102,
     "metadata": {},
     "output_type": "execute_result"
    }
   ],
   "source": [
    "C0 = math.exp(-r*T)*np.maximum(K-S[-1],0).mean()\n",
    "C0"
   ]
  },
  {
   "cell_type": "markdown",
   "id": "de707318",
   "metadata": {},
   "source": [
    "plt.hist(x, bins=10, range=None, normed=False, weights=None, cumulative=False, \n",
    "bottom=None, histtype='bar', align='mid', orientation='vertical', rwidth=None, \n",
    "log=False, color=None, label=None, stacked=False, hold=None, **kwargs) "
   ]
  },
  {
   "cell_type": "code",
   "execution_count": 115,
   "id": "399c1f7b",
   "metadata": {},
   "outputs": [
    {
     "data": {
      "text/plain": [
       "<matplotlib.lines.Line2D at 0x23f96545150>"
      ]
     },
     "execution_count": 115,
     "metadata": {},
     "output_type": "execute_result"
    },
    {
     "data": {
      "image/png": "[encoded data removed]",
      "text/plain": [
       "<Figure size 800x550 with 1 Axes>"
      ]
     },
     "metadata": {},
     "output_type": "display_data"
    }
   ],
   "source": [
    "plt.hist(S[-1],bins = 30)\n",
    "plt.axvline(x = S_the,color = 'r',linestyle = '--')"
   ]
  },
  {
   "cell_type": "markdown",
   "id": "52604eac",
   "metadata": {},
   "source": [
    "### numpy版使用向量化减少了一个循环"
   ]
  },
  {
   "cell_type": "code",
   "execution_count": 131,
   "id": "a7f25e10",
   "metadata": {},
   "outputs": [],
   "source": [
    "def mcs_simulation_np(p):\n",
    "    M,I = p\n",
    "    dt = T/M\n",
    "    S = np.zeros((M+1,I))\n",
    "    S[0] = S0\n",
    "    rn = np.random.standard_normal(S.shape)\n",
    "    for t in range(1,M+1):\n",
    "        #一次操作一行，确实舒服\n",
    "        #S[t] = S[t-1]*math.exp((r-sigma**2/2)*dt+sigma*math.sqrt(dt)*rn[t])警示，第一行用math的exp导致报错\n",
    "        S[t] = S[t-1] * np.exp((r - sigma ** 2 / 2) * dt +  sigma * math.sqrt(dt) * rn[t])\n",
    "    return S"
   ]
  },
  {
   "cell_type": "code",
   "execution_count": 132,
   "id": "e99bc7fc",
   "metadata": {},
   "outputs": [
    {
     "name": "stdout",
     "output_type": "stream",
     "text": [
      "CPU times: total: 156 ms\n",
      "Wall time: 148 ms\n"
     ]
    }
   ],
   "source": [
    "%time S = mcs_simulation_np((M,I))"
   ]
  },
  {
   "cell_type": "code",
   "execution_count": 133,
   "id": "d3f7280a",
   "metadata": {},
   "outputs": [
    {
     "data": {
      "text/plain": [
       "38.183713205632415"
      ]
     },
     "execution_count": 133,
     "metadata": {},
     "output_type": "execute_result"
    }
   ],
   "source": [
    "S[-1].mean()"
   ]
  },
  {
   "cell_type": "markdown",
   "id": "7bf78b9e",
   "metadata": {},
   "source": [
    "### Numba加速"
   ]
  },
  {
   "cell_type": "code",
   "execution_count": 135,
   "id": "8689f1bc",
   "metadata": {},
   "outputs": [],
   "source": [
    "mcs_simulation_nb = numba.jit(mcs_simulation_py)"
   ]
  },
  {
   "cell_type": "code",
   "execution_count": 136,
   "id": "38eb1c0a",
   "metadata": {},
   "outputs": [
    {
     "name": "stdout",
     "output_type": "stream",
     "text": [
      "CPU times: total: 672 ms\n",
      "Wall time: 769 ms\n"
     ]
    }
   ],
   "source": [
    "%time S = mcs_simulation_nb((M,I))"
   ]
  },
  {
   "cell_type": "code",
   "execution_count": 137,
   "id": "22b18791",
   "metadata": {},
   "outputs": [
    {
     "name": "stdout",
     "output_type": "stream",
     "text": [
      "CPU times: total: 141 ms\n",
      "Wall time: 132 ms\n"
     ]
    }
   ],
   "source": [
    "%time S = mcs_simulation_nb((M,I))"
   ]
  },
  {
   "cell_type": "code",
   "execution_count": 138,
   "id": "4f421210",
   "metadata": {},
   "outputs": [
    {
     "data": {
      "text/plain": [
       "38.24695253899908"
      ]
     },
     "execution_count": 138,
     "metadata": {},
     "output_type": "execute_result"
    }
   ],
   "source": [
    "S[-1].mean()"
   ]
  },
  {
   "cell_type": "code",
   "execution_count": 139,
   "id": "8deaf17b",
   "metadata": {},
   "outputs": [],
   "source": [
    "C0 = math.exp(-r*T) * np.maximum(K - S[-1],0).mean()"
   ]
  },
  {
   "cell_type": "code",
   "execution_count": 140,
   "id": "42972a35",
   "metadata": {},
   "outputs": [
    {
     "data": {
      "text/plain": [
       "3.828394823284066"
      ]
     },
     "execution_count": 140,
     "metadata": {},
     "output_type": "execute_result"
    }
   ],
   "source": [
    "C0"
   ]
  },
  {
   "cell_type": "code",
   "execution_count": 141,
   "id": "7fc3233a",
   "metadata": {},
   "outputs": [
    {
     "name": "stdout",
     "output_type": "stream",
     "text": [
      "144 ms ± 2.14 ms per loop (mean ± std. dev. of 7 runs, 10 loops each)\n"
     ]
    }
   ],
   "source": [
    "%timeit S = mcs_simulation_nb((M,I))"
   ]
  },
  {
   "cell_type": "markdown",
   "id": "8053f059",
   "metadata": {},
   "source": [
    "### 多进程 （蒙特卡洛特别适合多进程执行）\n",
    "**两个思路**  \n",
    "**1.方法之一是将10万条路径的模拟分为10个并行的进程，每个进程1万条路径**  \n",
    "**2.方法之二是将10万条路径的模拟分在多个进程中**  "
   ]
  },
  {
   "cell_type": "code",
   "execution_count": 170,
   "id": "3afaedaa",
   "metadata": {},
   "outputs": [],
   "source": [
    "import multiprocessing as mp\n",
    "from pylab import plt,mpl\n",
    "\n",
    "#画图基本设置\n",
    "plt.style.use('seaborn-v0_8')\n",
    "plt.rcParams['font.sans-serif'] = ['Microsoft YaHei']\n",
    "#负号显示问题\n",
    "plt.rcParams['axes.unicode_minus'] = False"
   ]
  },
  {
   "cell_type": "code",
   "execution_count": 143,
   "id": "0b89a0ed",
   "metadata": {},
   "outputs": [],
   "source": [
    "pool = mp.Pool(processes = 4)"
   ]
  },
  {
   "cell_type": "code",
   "execution_count": 144,
   "id": "d492f209",
   "metadata": {},
   "outputs": [],
   "source": [
    "p=20"
   ]
  },
  {
   "cell_type": "code",
   "execution_count": 147,
   "id": "8c1f0dda",
   "metadata": {},
   "outputs": [
    {
     "name": "stdout",
     "output_type": "stream",
     "text": [
      "96.9 ms ± 5.56 ms per loop (mean ± std. dev. of 7 runs, 1 loop each)\n"
     ]
    }
   ],
   "source": [
    "%timeit S = np.hstack(pool.map(mcs_simulation_nb, p * [(M, int(I / p))])) "
   ]
  },
  {
   "cell_type": "code",
   "execution_count": 148,
   "id": "ec84d98c",
   "metadata": {},
   "outputs": [
    {
     "data": {
      "text/plain": [
       "[(100, 2500),\n",
       " (100, 2500),\n",
       " (100, 2500),\n",
       " (100, 2500),\n",
       " (100, 2500),\n",
       " (100, 2500),\n",
       " (100, 2500),\n",
       " (100, 2500),\n",
       " (100, 2500),\n",
       " (100, 2500),\n",
       " (100, 2500),\n",
       " (100, 2500),\n",
       " (100, 2500),\n",
       " (100, 2500),\n",
       " (100, 2500),\n",
       " (100, 2500),\n",
       " (100, 2500),\n",
       " (100, 2500),\n",
       " (100, 2500),\n",
       " (100, 2500)]"
      ]
     },
     "execution_count": 148,
     "metadata": {},
     "output_type": "execute_result"
    }
   ],
   "source": [
    "#原来是这个意思，这样进程好分是吧！注意列表的乘法可不是标量的乘法\n",
    "p * [(M, int(I / p))]"
   ]
  },
  {
   "cell_type": "markdown",
   "id": "d418ab7f",
   "metadata": {},
   "source": [
    "## pandas 递归算法"
   ]
  },
  {
   "cell_type": "code",
   "execution_count": 149,
   "id": "3c4e60f7",
   "metadata": {},
   "outputs": [],
   "source": [
    "import pandas as pd"
   ]
  },
  {
   "cell_type": "code",
   "execution_count": 161,
   "id": "57c0db61",
   "metadata": {},
   "outputs": [],
   "source": [
    "sym = '沪深300指数 '"
   ]
  },
  {
   "cell_type": "code",
   "execution_count": 155,
   "id": "04a50966",
   "metadata": {},
   "outputs": [],
   "source": [
    "filename = r'C:\\\\Users\\\\zz\\\\Jupyter_Program\\\\Written_exam\\\\test_data.xlsx'"
   ]
  },
  {
   "cell_type": "code",
   "execution_count": 157,
   "id": "f9330c1a",
   "metadata": {
    "scrolled": true
   },
   "outputs": [],
   "source": [
    "data = pd.DataFrame(pd.read_excel(filename,index_col = 0,parse_dates=True)['沪深300指数 '])"
   ]
  },
  {
   "cell_type": "code",
   "execution_count": 158,
   "id": "f0c2fdc8",
   "metadata": {},
   "outputs": [
    {
     "data": {
      "text/html": [
       "<div>\n",
       "<style scoped>\n",
       "    .dataframe tbody tr th:only-of-type {\n",
       "        vertical-align: middle;\n",
       "    }\n",
       "\n",
       "    .dataframe tbody tr th {\n",
       "        vertical-align: top;\n",
       "    }\n",
       "\n",
       "    .dataframe thead th {\n",
       "        text-align: right;\n",
       "    }\n",
       "</style>\n",
       "<table border=\"1\" class=\"dataframe\">\n",
       "  <thead>\n",
       "    <tr style=\"text-align: right;\">\n",
       "      <th></th>\n",
       "      <th>沪深300指数</th>\n",
       "    </tr>\n",
       "    <tr>\n",
       "      <th>日期</th>\n",
       "      <th></th>\n",
       "    </tr>\n",
       "  </thead>\n",
       "  <tbody>\n",
       "    <tr>\n",
       "      <th>2007-12-31</th>\n",
       "      <td>100.000</td>\n",
       "    </tr>\n",
       "    <tr>\n",
       "      <th>2008-01-31</th>\n",
       "      <td>100.782</td>\n",
       "    </tr>\n",
       "    <tr>\n",
       "      <th>2008-02-29</th>\n",
       "      <td>101.701</td>\n",
       "    </tr>\n",
       "    <tr>\n",
       "      <th>2008-03-31</th>\n",
       "      <td>101.411</td>\n",
       "    </tr>\n",
       "    <tr>\n",
       "      <th>2008-04-30</th>\n",
       "      <td>101.951</td>\n",
       "    </tr>\n",
       "  </tbody>\n",
       "</table>\n",
       "</div>"
      ],
      "text/plain": [
       "            沪深300指数 \n",
       "日期                  \n",
       "2007-12-31   100.000\n",
       "2008-01-31   100.782\n",
       "2008-02-29   101.701\n",
       "2008-03-31   101.411\n",
       "2008-04-30   101.951"
      ]
     },
     "execution_count": 158,
     "metadata": {},
     "output_type": "execute_result"
    }
   ],
   "source": [
    "data.head()"
   ]
  },
  {
   "cell_type": "code",
   "execution_count": 159,
   "id": "78d77923",
   "metadata": {},
   "outputs": [],
   "source": [
    "alpha = 0.25"
   ]
  },
  {
   "cell_type": "code",
   "execution_count": 162,
   "id": "27ff0e92",
   "metadata": {},
   "outputs": [],
   "source": [
    "data['EWMA'] = data[sym]"
   ]
  },
  {
   "cell_type": "code",
   "execution_count": 163,
   "id": "c8dd47b6",
   "metadata": {},
   "outputs": [
    {
     "data": {
      "text/html": [
       "<div>\n",
       "<style scoped>\n",
       "    .dataframe tbody tr th:only-of-type {\n",
       "        vertical-align: middle;\n",
       "    }\n",
       "\n",
       "    .dataframe tbody tr th {\n",
       "        vertical-align: top;\n",
       "    }\n",
       "\n",
       "    .dataframe thead th {\n",
       "        text-align: right;\n",
       "    }\n",
       "</style>\n",
       "<table border=\"1\" class=\"dataframe\">\n",
       "  <thead>\n",
       "    <tr style=\"text-align: right;\">\n",
       "      <th></th>\n",
       "      <th>沪深300指数</th>\n",
       "      <th>EWMA</th>\n",
       "    </tr>\n",
       "    <tr>\n",
       "      <th>日期</th>\n",
       "      <th></th>\n",
       "      <th></th>\n",
       "    </tr>\n",
       "  </thead>\n",
       "  <tbody>\n",
       "    <tr>\n",
       "      <th>2007-12-31</th>\n",
       "      <td>100.000</td>\n",
       "      <td>100.000</td>\n",
       "    </tr>\n",
       "    <tr>\n",
       "      <th>2008-01-31</th>\n",
       "      <td>100.782</td>\n",
       "      <td>100.782</td>\n",
       "    </tr>\n",
       "    <tr>\n",
       "      <th>2008-02-29</th>\n",
       "      <td>101.701</td>\n",
       "      <td>101.701</td>\n",
       "    </tr>\n",
       "    <tr>\n",
       "      <th>2008-03-31</th>\n",
       "      <td>101.411</td>\n",
       "      <td>101.411</td>\n",
       "    </tr>\n",
       "    <tr>\n",
       "      <th>2008-04-30</th>\n",
       "      <td>101.951</td>\n",
       "      <td>101.951</td>\n",
       "    </tr>\n",
       "  </tbody>\n",
       "</table>\n",
       "</div>"
      ],
      "text/plain": [
       "            沪深300指数      EWMA\n",
       "日期                           \n",
       "2007-12-31   100.000  100.000\n",
       "2008-01-31   100.782  100.782\n",
       "2008-02-29   101.701  101.701\n",
       "2008-03-31   101.411  101.411\n",
       "2008-04-30   101.951  101.951"
      ]
     },
     "execution_count": 163,
     "metadata": {},
     "output_type": "execute_result"
    }
   ],
   "source": [
    "data.head()"
   ]
  },
  {
   "cell_type": "code",
   "execution_count": 164,
   "id": "83668fab",
   "metadata": {},
   "outputs": [
    {
     "name": "stdout",
     "output_type": "stream",
     "text": [
      "CPU times: total: 31.2 ms\n",
      "Wall time: 65.2 ms\n"
     ]
    }
   ],
   "source": [
    "%%time\n",
    "#得出的每个t都是元组\n",
    "for t in zip(data.index,data.index[1:]):\n",
    "    data.loc[t[1],'EWMA'] = (alpha * data.loc[t[1],sym]+(1-alpha)*data.loc[t[0],'EWMA'])"
   ]
  },
  {
   "cell_type": "code",
   "execution_count": 168,
   "id": "64818089",
   "metadata": {},
   "outputs": [
    {
     "data": {
      "text/html": [
       "<div>\n",
       "<style scoped>\n",
       "    .dataframe tbody tr th:only-of-type {\n",
       "        vertical-align: middle;\n",
       "    }\n",
       "\n",
       "    .dataframe tbody tr th {\n",
       "        vertical-align: top;\n",
       "    }\n",
       "\n",
       "    .dataframe thead th {\n",
       "        text-align: right;\n",
       "    }\n",
       "</style>\n",
       "<table border=\"1\" class=\"dataframe\">\n",
       "  <thead>\n",
       "    <tr style=\"text-align: right;\">\n",
       "      <th></th>\n",
       "      <th>沪深300指数</th>\n",
       "      <th>EWMA</th>\n",
       "    </tr>\n",
       "    <tr>\n",
       "      <th>日期</th>\n",
       "      <th></th>\n",
       "      <th></th>\n",
       "    </tr>\n",
       "  </thead>\n",
       "  <tbody>\n",
       "    <tr>\n",
       "      <th>2007-12-31</th>\n",
       "      <td>100.000</td>\n",
       "      <td>100.000000</td>\n",
       "    </tr>\n",
       "    <tr>\n",
       "      <th>2008-01-31</th>\n",
       "      <td>100.782</td>\n",
       "      <td>100.195500</td>\n",
       "    </tr>\n",
       "    <tr>\n",
       "      <th>2008-02-29</th>\n",
       "      <td>101.701</td>\n",
       "      <td>100.571875</td>\n",
       "    </tr>\n",
       "    <tr>\n",
       "      <th>2008-03-31</th>\n",
       "      <td>101.411</td>\n",
       "      <td>100.781656</td>\n",
       "    </tr>\n",
       "    <tr>\n",
       "      <th>2008-04-30</th>\n",
       "      <td>101.951</td>\n",
       "      <td>101.073992</td>\n",
       "    </tr>\n",
       "  </tbody>\n",
       "</table>\n",
       "</div>"
      ],
      "text/plain": [
       "            沪深300指数         EWMA\n",
       "日期                              \n",
       "2007-12-31   100.000  100.000000\n",
       "2008-01-31   100.782  100.195500\n",
       "2008-02-29   101.701  100.571875\n",
       "2008-03-31   101.411  100.781656\n",
       "2008-04-30   101.951  101.073992"
      ]
     },
     "execution_count": 168,
     "metadata": {},
     "output_type": "execute_result"
    }
   ],
   "source": [
    "data.head()"
   ]
  },
  {
   "cell_type": "code",
   "execution_count": 171,
   "id": "2cadfd4b",
   "metadata": {},
   "outputs": [
    {
     "data": {
      "text/plain": [
       "<Axes: xlabel='日期'>"
      ]
     },
     "execution_count": 171,
     "metadata": {},
     "output_type": "execute_result"
    },
    {
     "data": {
      "image/png": "[encoded data removed]",
      "text/plain": [
       "<Figure size 1000x600 with 1 Axes>"
      ]
     },
     "metadata": {},
     "output_type": "display_data"
    }
   ],
   "source": [
    "data[data.index>'2007-12-31'].plot(figsize = (10,6))"
   ]
  },
  {
   "cell_type": "code",
   "execution_count": 179,
   "id": "c927bd2f",
   "metadata": {},
   "outputs": [],
   "source": [
    "def ewma_py(x,alpha):\n",
    "    y = np.zeros_like(x)\n",
    "    y[0] = x[0]\n",
    "    for i in range(1,len(x)):\n",
    "        y[i] = alpha * x[i] + (1-alpha)*y[i-1]\n",
    "    return y"
   ]
  },
  {
   "cell_type": "code",
   "execution_count": 180,
   "id": "96410024",
   "metadata": {},
   "outputs": [
    {
     "name": "stdout",
     "output_type": "stream",
     "text": [
      "CPU times: total: 15.6 ms\n",
      "Wall time: 2.99 ms\n"
     ]
    },
    {
     "name": "stderr",
     "output_type": "stream",
     "text": [
      "C:\\Users\\zz\\AppData\\Local\\Temp\\ipykernel_16268\\172794466.py:9: FutureWarning: Series.__getitem__ treating keys as positions is deprecated. In a future version, integer keys will always be treated as labels (consistent with DataFrame behavior). To access a value by position, use `ser.iloc[pos]`\n",
      "  y[0] = x[0]\n",
      "C:\\Users\\zz\\AppData\\Local\\Temp\\ipykernel_16268\\172794466.py:11: FutureWarning: Series.__getitem__ treating keys as positions is deprecated. In a future version, integer keys will always be treated as labels (consistent with DataFrame behavior). To access a value by position, use `ser.iloc[pos]`\n",
      "  y[i] = alpha * x[i] + (1-alpha) * y[i-1]\n"
     ]
    }
   ],
   "source": [
    "%time data['EWMA_PY'] = ewma_py(data[sym],alpha)\n"
   ]
  },
  {
   "cell_type": "code",
   "execution_count": null,
   "id": "b0e61cfb",
   "metadata": {},
   "outputs": [],
   "source": []
  }
 ],
 "metadata": {
  "kernelspec": {
   "display_name": "Python 3 (ipykernel)",
   "language": "python",
   "name": "python3"
  },
  "language_info": {
   "codemirror_mode": {
    "name": "ipython",
    "version": 3
   },
   "file_extension": ".py",
   "mimetype": "text/x-python",
   "name": "python",
   "nbconvert_exporter": "python",
   "pygments_lexer": "ipython3",
   "version": "3.11.7"
  },
  "toc": {
   "base_numbering": 1,
   "nav_menu": {},
   "number_sections": true,
   "sideBar": true,
   "skip_h1_title": false,
   "title_cell": "Table of Contents",
   "title_sidebar": "Contents",
   "toc_cell": false,
   "toc_position": {
    "height": "calc(100% - 180px)",
    "left": "10px",
    "top": "150px",
    "width": "172.136px"
   },
   "toc_section_display": true,
   "toc_window_display": true
  }
 },
 "nbformat": 4,
 "nbformat_minor": 5
}
